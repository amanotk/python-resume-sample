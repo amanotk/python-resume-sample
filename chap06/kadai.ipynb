{
 "cells": [
  {
   "attachments": {},
   "cell_type": "markdown",
   "metadata": {},
   "source": [
    "<a href=\"https://colab.research.google.com/github/amanotk/python-resume-sample/blob/main/chap06/kadai.ipynb\">\n",
    "<img src=\"https://colab.research.google.com/assets/colab-badge.svg\" style=\"vertical-align: text-top;\">\n",
    "</a>\n",
    "\n",
    "# 6. 課題解答例"
   ]
  },
  {
   "cell_type": "code",
   "execution_count": null,
   "metadata": {},
   "outputs": [],
   "source": [
    "# データファイルの準備\n",
    "import urllib.request\n",
    "\n",
    "basedir = 'https://amanotk.github.io/python-resume-public/data/'\n",
    "files = ['score1.dat', 'score2.dat', 'score3.dat', 'vector.dat']\n",
    "for f in files:\n",
    "    urllib.request.urlretrieve(basedir+f, f)"
   ]
  },
  {
   "cell_type": "code",
   "execution_count": null,
   "metadata": {},
   "outputs": [],
   "source": [
    "import numpy as np\n",
    "from matplotlib import pylab as plt"
   ]
  },
  {
   "cell_type": "markdown",
   "metadata": {},
   "source": [
    "## 課題1\n",
    "なし"
   ]
  },
  {
   "cell_type": "markdown",
   "metadata": {},
   "source": [
    "## 課題2"
   ]
  },
  {
   "cell_type": "code",
   "execution_count": null,
   "metadata": {},
   "outputs": [],
   "source": [
    "def trigonometric(n):\n",
    "    \"θ, sinθ, cosθの値を出力する\"\n",
    "    x = np.linspace(0.0, 180.0, n+1)\n",
    "    y1 = np.sin(np.deg2rad(x))\n",
    "    y2 = np.cos(np.deg2rad(x))\n",
    "    return x, y1, y2"
   ]
  },
  {
   "cell_type": "code",
   "execution_count": null,
   "metadata": {},
   "outputs": [],
   "source": [
    "x, y1, y2 = trigonometric(18)\n",
    "plt.plot(x, y1, 'ro')\n",
    "plt.plot(x, y2, 'bo')\n",
    "plt.plot(x, np.sin(np.deg2rad(x)), 'r-')\n",
    "plt.plot(x, np.cos(np.deg2rad(x)), 'b-')"
   ]
  },
  {
   "cell_type": "markdown",
   "metadata": {},
   "source": [
    "## 課題3"
   ]
  },
  {
   "cell_type": "code",
   "execution_count": null,
   "metadata": {},
   "outputs": [],
   "source": [
    "from scipy import special\n",
    "\n",
    "def approx_e(n):\n",
    "    \"自然対数の底を級数展開を用いて求める\"\n",
    "    return np.sum(1/special.gamma(np.arange(1, n+1)))"
   ]
  },
  {
   "cell_type": "code",
   "execution_count": null,
   "metadata": {},
   "outputs": [],
   "source": [
    "print('{:20} : {:>20.14e}'.format('Approximated', approx_e(10)))\n",
    "print('{:20} : {:>20.14e}'.format('Exact', np.e))"
   ]
  },
  {
   "cell_type": "markdown",
   "metadata": {},
   "source": [
    "## 課題4"
   ]
  },
  {
   "cell_type": "code",
   "execution_count": null,
   "metadata": {},
   "outputs": [],
   "source": [
    "def logistic(m):\n",
    "    \"0 < α < 1 をm分割して，それぞれに対してロジスティック写像を計算\"\n",
    "    a = np.linspace(1.0, 3.0, m)\n",
    "    p = np.zeros((101, m), dtype=np.float64)\n",
    "    # 初期条件\n",
    "    p[0,:] = 0.9\n",
    "    # 最初の半分は捨てる\n",
    "    for i in range(100):\n",
    "        p[0,:] = p[0,:] + a * p[0,:]*(1 - p[0,:])\n",
    "    # 残りの半分は配列に格納\n",
    "    for i in range(100):\n",
    "        p[i+1,:] = p[i,:] + a * p[i,:]*(1 - p[i,:])\n",
    "    # プロット用に2次元配列に\n",
    "    a = np.tile(a, (101, 1))\n",
    "    return a, p"
   ]
  },
  {
   "cell_type": "code",
   "execution_count": null,
   "metadata": {},
   "outputs": [],
   "source": [
    "a, p = logistic(2000)\n",
    "plt.scatter(a, p, s=0.001, color='r')\n",
    "plt.xlim(1.0, 3.0)\n",
    "plt.ylim(0.0, 1.4)"
   ]
  },
  {
   "cell_type": "markdown",
   "metadata": {},
   "source": [
    "## 課題5"
   ]
  },
  {
   "cell_type": "code",
   "execution_count": null,
   "metadata": {},
   "outputs": [],
   "source": [
    "def func(x):\n",
    "    \"被積分関数\"\n",
    "    return 4 / np.pi /(1 + x**2)\n",
    "\n",
    "def trapezoid(n):\n",
    "    \"分割数nの台形公式で関数を積分\"\n",
    "    h = 1/n\n",
    "    f = func(np.linspace(0.0, 1.0, n+1)) * h\n",
    "    i = np.arange(1, n)\n",
    "    return np.sum(f[i]) + 0.5*(f[0] + f[-1])\n",
    "\n",
    "def simpson(n):\n",
    "    \"分割数nのSimpson公式で関数を積分\"\n",
    "    if n%2 != 0:\n",
    "        print('Error: n must be even')\n",
    "        return None\n",
    "    h = 1/n\n",
    "    f = func(np.linspace(0.0, 1.0, n+1)) * h/3\n",
    "    i = np.arange(1, n  , 2) # 奇数\n",
    "    j = np.arange(2, n-1, 2) # 偶数\n",
    "    return 4*np.sum(f[i]) + 2*np.sum(f[j]) + (f[0] + f[-1])"
   ]
  },
  {
   "cell_type": "code",
   "execution_count": null,
   "metadata": {},
   "outputs": [],
   "source": [
    "M = 16\n",
    "n = 2**(np.arange(M)+1)\n",
    "err1 = np.zeros(M, dtype=np.float64)\n",
    "err2 = np.zeros(M, dtype=np.float64)\n",
    "\n",
    "for i in range(M):\n",
    "    err1[i] = np.abs(trapezoid(n[i]) - 1)\n",
    "    err2[i] = np.abs(simpson(n[i]) - 1)\n",
    "    print('{:10} {:>20.10e} {:>20.10e}'.format(n[i], err1[i], err2[i]))\n",
    "\n",
    "# 結果をプロット\n",
    "plt.plot(n, err1, 'rx-', label='trapezoid')\n",
    "plt.plot(n, err2, 'bx-', label='simpson')\n",
    "plt.loglog()\n",
    "plt.legend()"
   ]
  },
  {
   "cell_type": "markdown",
   "metadata": {},
   "source": [
    "## 課題6"
   ]
  },
  {
   "cell_type": "code",
   "execution_count": null,
   "metadata": {},
   "outputs": [],
   "source": [
    "def analyze_score(filename):\n",
    "    \"filenameからデータを読んで最高点，最低点，平均点，標準偏差を返す\"\n",
    "    data = np.loadtxt(filename, skiprows=2, dtype=np.int32)\n",
    "    return data.max(), data.min(), data.mean(), data.std()"
   ]
  },
  {
   "cell_type": "code",
   "execution_count": null,
   "metadata": {},
   "outputs": [],
   "source": [
    "smax, smin, savg, sstd = analyze_score('score1.dat')\n",
    "\n",
    "print('{:20} : {:10}'.format('Best', smax))\n",
    "print('{:20} : {:10}'.format('Worst', smin))\n",
    "print('{:20} : {:10.3f}'.format('Average', savg))\n",
    "print('{:20} : {:10.3f}'.format('Standard deviation', sstd))"
   ]
  },
  {
   "cell_type": "code",
   "execution_count": null,
   "metadata": {},
   "outputs": [],
   "source": [
    "smax, smin, savg, sstd = analyze_score('score2.dat')\n",
    "\n",
    "print('{:20} : {:10}'.format('Best', smax))\n",
    "print('{:20} : {:10}'.format('Worst', smin))\n",
    "print('{:20} : {:10.3f}'.format('Average', savg))\n",
    "print('{:20} : {:10.3f}'.format('Standard deviation', sstd))"
   ]
  },
  {
   "cell_type": "markdown",
   "metadata": {},
   "source": [
    "## 課題7"
   ]
  },
  {
   "cell_type": "code",
   "execution_count": null,
   "metadata": {},
   "outputs": [],
   "source": [
    "def hist_score(filename, nbin):\n",
    "    \"filenameからデータを読んでヒストグラムを作成する\"\n",
    "    data = np.loadtxt(filename, skiprows=2, dtype=np.int32)\n",
    "    # ビン境界配列を作成\n",
    "    bins = np.linspace(0.0, 100.0, nbin+1)\n",
    "    # ヒストグラム作成(\"_\"はbinsと同じで必要ないので捨てる)\n",
    "    hist, _ = np.histogram(data, bins=bins)\n",
    "    return bins, hist"
   ]
  },
  {
   "cell_type": "code",
   "execution_count": null,
   "metadata": {},
   "outputs": [],
   "source": [
    "nbin = 10\n",
    "bins, hist = hist_score('score1.dat', nbin)\n",
    "binw = bins[+1:] - bins[:-1]\n",
    "plt.bar(bins[0:-1], hist, width=binw, align='edge')\n",
    "plt.xlim(0, 100)"
   ]
  },
  {
   "cell_type": "code",
   "execution_count": null,
   "metadata": {},
   "outputs": [],
   "source": [
    "nbin = 20\n",
    "bins, hist = hist_score('score2.dat', nbin)\n",
    "binw = bins[+1:] - bins[:-1]\n",
    "plt.bar(bins[0:-1], hist, width=binw, align='edge')\n",
    "plt.xlim(0, 100)"
   ]
  },
  {
   "cell_type": "code",
   "execution_count": null,
   "metadata": {},
   "outputs": [],
   "source": [
    "nbin = 20\n",
    "bins, hist = hist_score('score3.dat', nbin)\n",
    "binw = bins[+1:] - bins[:-1]\n",
    "plt.bar(bins[0:-1], hist, width=binw, align='edge')\n",
    "plt.xlim(0, 100)"
   ]
  },
  {
   "cell_type": "markdown",
   "metadata": {},
   "source": [
    "## 課題8"
   ]
  },
  {
   "cell_type": "code",
   "execution_count": null,
   "metadata": {},
   "outputs": [],
   "source": [
    "def dot_file(filename):\n",
    "    \"filenameから2つのベクトルを読み込み，それらの内積を返す\"\n",
    "    data = np.loadtxt(filename, skiprows=2)\n",
    "    # 整数としての割り算は //\n",
    "    n = data.size // 2\n",
    "    # 前半と後半に分離\n",
    "    vec1 = data[0:n]\n",
    "    vec2 = data[n:n*2]\n",
    "    return np.dot(vec1, vec2)"
   ]
  },
  {
   "cell_type": "code",
   "execution_count": null,
   "metadata": {},
   "outputs": [],
   "source": [
    "dot = dot_file('vector.dat')\n",
    "print('{:20} : {:>20.14e}'.format('Inner product', dot))"
   ]
  },
  {
   "cell_type": "markdown",
   "metadata": {},
   "source": [
    "## 課題9"
   ]
  },
  {
   "cell_type": "code",
   "execution_count": null,
   "metadata": {},
   "outputs": [],
   "source": [
    "def find_var(x, var):\n",
    "    \"varが配列xに含まれているかどうかを調べる\"\n",
    "    return np.any(x == var)\n",
    "\n",
    "def find_var_index(x, var):\n",
    "    \"varが配列xに含まれている時にはそのインデックスを，そうでない場合は-1を返す\"\n",
    "    index = np.nonzero(x == var)[0]\n",
    "    return index[0] if index.size != 0 else -1"
   ]
  },
  {
   "cell_type": "code",
   "execution_count": null,
   "metadata": {},
   "outputs": [],
   "source": [
    "x = np.array([17, 75, 28, 83, 93, 20, 19, 94, 62, 61])"
   ]
  },
  {
   "cell_type": "code",
   "execution_count": null,
   "metadata": {},
   "outputs": [],
   "source": [
    "find_var(x, 28)"
   ]
  },
  {
   "cell_type": "code",
   "execution_count": null,
   "metadata": {},
   "outputs": [],
   "source": [
    "find_var(x, 25)"
   ]
  },
  {
   "cell_type": "code",
   "execution_count": null,
   "metadata": {},
   "outputs": [],
   "source": [
    "find_var_index(x, 28)"
   ]
  },
  {
   "cell_type": "code",
   "execution_count": null,
   "metadata": {},
   "outputs": [],
   "source": [
    "find_var_index(x, 25)"
   ]
  },
  {
   "cell_type": "code",
   "execution_count": null,
   "metadata": {},
   "outputs": [],
   "source": [
    "# find_var\n",
    "x = np.random.randint(0, 10, 10)\n",
    "v = 5\n",
    "if find_var(x, v):\n",
    "    print('{} is in {}'.format(v, x))\n",
    "else:\n",
    "    print('{} is not in {}'.format(v, x))\n",
    "\n",
    "# find_var_index\n",
    "x = np.random.randint(0, 10, 10)\n",
    "v = 5\n",
    "i = find_var_index(x, v)\n",
    "if i != -1:\n",
    "    print('{} is in {} at index = {}'.format(v, x, i))\n",
    "else:\n",
    "    print('{} is not in {}'.format(v, x))"
   ]
  },
  {
   "cell_type": "markdown",
   "metadata": {},
   "source": [
    "## 課題10"
   ]
  },
  {
   "cell_type": "code",
   "execution_count": null,
   "metadata": {},
   "outputs": [],
   "source": [
    "def cellular_automaton(x, step, decrule):\n",
    "    \"初期値xからstep数だけセル・オートマトンによる状態遷移を求める\"\n",
    "    # 10進数のルールを長さ8の配列に変換\n",
    "    rule = np.array([int(bit) for bit in format(decrule, '08b')])[::-1]\n",
    "    # 更新\n",
    "    n = x.size\n",
    "    y = np.zeros((step, n), dtype=np.int32)\n",
    "    i = np.arange(1, n-1)\n",
    "    y[0,:] = x\n",
    "    for j in range(step-1):\n",
    "        y[j+1,i] = rule[4*y[j,i-1] + 2*y[j,i] + y[j,i+1]]\n",
    "    return y"
   ]
  },
  {
   "cell_type": "code",
   "execution_count": null,
   "metadata": {},
   "outputs": [],
   "source": [
    "# 初期値\n",
    "n = 256\n",
    "m = n//2\n",
    "xzero = np.zeros((n,), dtype=np.int32)\n",
    "xzero[m] = 1"
   ]
  },
  {
   "cell_type": "code",
   "execution_count": null,
   "metadata": {},
   "outputs": [],
   "source": [
    "# ルール30\n",
    "y = cellular_automaton(xzero, m, 30)\n",
    "plt.imshow(y, origin='lower', cmap=plt.cm.gray_r)"
   ]
  },
  {
   "cell_type": "code",
   "execution_count": null,
   "metadata": {},
   "outputs": [],
   "source": [
    "# ルール90\n",
    "y = cellular_automaton(xzero, m, 90)\n",
    "plt.imshow(y, origin='lower', cmap=plt.cm.gray_r)"
   ]
  },
  {
   "cell_type": "markdown",
   "metadata": {},
   "source": [
    "## 課題11"
   ]
  },
  {
   "cell_type": "code",
   "execution_count": null,
   "metadata": {},
   "outputs": [],
   "source": [
    "def randexp(l, n):\n",
    "    \"指数分布に従う乱数をn個作成する\"    \n",
    "    return -np.log(1 - np.random.random(n))/l"
   ]
  },
  {
   "cell_type": "code",
   "execution_count": null,
   "metadata": {},
   "outputs": [],
   "source": [
    "l = 1.0\n",
    "r = randexp(l, 60000)\n",
    "\n",
    "# ヒストグラム\n",
    "hist, bins = np.histogram(r, bins=np.linspace(0, 12, 33), density=True)\n",
    "plt.step(bins[0:-1], hist, where='post')\n",
    "\n",
    "# 解析的な分布\n",
    "x = 0.5*(bins[+1:] + bins[:-1])\n",
    "y = l * np.exp(-l*x)\n",
    "plt.plot(x, y, 'k--')\n",
    "\n",
    "plt.semilogy()"
   ]
  },
  {
   "cell_type": "markdown",
   "metadata": {},
   "source": [
    "## 課題12"
   ]
  },
  {
   "cell_type": "code",
   "execution_count": null,
   "metadata": {},
   "outputs": [],
   "source": [
    "from scipy import special\n",
    "\n",
    "def mc_hypersphere(n, nrand):\n",
    "    \"n次元超球の体積をモンテカルロ法で求める\"\n",
    "    r = np.random.random((nrand, n))\n",
    "    d = np.sum(r**2, axis=1)\n",
    "    return np.count_nonzero(d<1)/nrand * 2**n\n",
    "\n",
    "def hypersphere(n):\n",
    "    \"n次元超球の体積を返す\"\n",
    "    return np.pi**(n/2) / special.gamma(n/2 + 1)"
   ]
  },
  {
   "cell_type": "code",
   "execution_count": null,
   "metadata": {},
   "outputs": [],
   "source": [
    "n = 3\n",
    "nrand = 100000\n",
    "\n",
    "print('{:20} : {:<20.14e}'.format('Monte-Carlo', mc_hypersphere(n, nrand)))\n",
    "print('{:20} : {:<20.14e}'.format('Exact', hypersphere(n)))"
   ]
  },
  {
   "cell_type": "code",
   "execution_count": null,
   "metadata": {},
   "outputs": [],
   "source": []
  }
 ],
 "metadata": {
  "kernelspec": {
   "display_name": "base",
   "language": "python",
   "name": "python3"
  },
  "language_info": {
   "codemirror_mode": {
    "name": "ipython",
    "version": 3
   },
   "file_extension": ".py",
   "mimetype": "text/x-python",
   "name": "python",
   "nbconvert_exporter": "python",
   "pygments_lexer": "ipython3",
   "version": "3.8.16"
  },
  "vscode": {
   "interpreter": {
    "hash": "546c21d3de566120dda309d1397c5675600fd1cfea721af46f796ef4bbd56950"
   }
  }
 },
 "nbformat": 4,
 "nbformat_minor": 4
}
