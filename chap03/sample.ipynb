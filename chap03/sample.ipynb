{
 "cells": [
  {
   "cell_type": "markdown",
   "metadata": {},
   "source": [
    "# Markdownセル\n",
    "\n",
    "## 使い方\n",
    "このように文章を入力することもできます。\n",
    "$\\LaTeX$形式の数式も表示ができます。\n",
    "\n",
    "$$\n",
    "f(x) = \\frac{1}{x}\n",
    "$$"
   ]
  },
  {
   "cell_type": "code",
   "execution_count": null,
   "metadata": {},
   "outputs": [],
   "source": [
    "import math"
   ]
  },
  {
   "cell_type": "code",
   "execution_count": null,
   "metadata": {},
   "outputs": [],
   "source": [
    "def exp_taylor(x, n):\n",
    "    c = 1.0\n",
    "    f = 1.0\n",
    "    for i in range(n):\n",
    "        c /= (i+1)\n",
    "        f += c * x**(i+1)\n",
    "    return f"
   ]
  },
  {
   "cell_type": "code",
   "execution_count": null,
   "metadata": {},
   "outputs": [],
   "source": [
    "x = 0.5\n",
    "print('x     = ', x)\n",
    "print('1st   = ', exp_taylor(x, 1))\n",
    "print('2nd   = ', exp_taylor(x, 2))\n",
    "print('3rd   = ', exp_taylor(x, 3))\n",
    "print('4th   = ', exp_taylor(x, 4))\n",
    "print('5th   = ', exp_taylor(x, 5))\n",
    "print('6th   = ', exp_taylor(x, 6))\n",
    "print('7th   = ', exp_taylor(x, 7))\n",
    "print('8th   = ', exp_taylor(x, 8))\n",
    "print('exact = ', math.exp(x))"
   ]
  },
  {
   "cell_type": "code",
   "execution_count": null,
   "metadata": {},
   "outputs": [],
   "source": [
    "# numpy\n",
    "import numpy as np\n",
    "\n",
    "# matplotlibのおまじない\n",
    "from matplotlib import pylab as plt\n",
    "\n",
    "x = np.linspace(0.0, np.pi, 100)\n",
    "y = np.cos(x)**2\n",
    "plt.plot(x, y)"
   ]
  },
  {
   "cell_type": "code",
   "execution_count": null,
   "metadata": {},
   "outputs": [],
   "source": []
  }
 ],
 "metadata": {
  "kernelspec": {
   "display_name": "Python 3",
   "language": "python",
   "name": "python3"
  },
  "language_info": {
   "codemirror_mode": {
    "name": "ipython",
    "version": 3
   },
   "file_extension": ".py",
   "mimetype": "text/x-python",
   "name": "python",
   "nbconvert_exporter": "python",
   "pygments_lexer": "ipython3",
   "version": "3.7.10"
  }
 },
 "nbformat": 4,
 "nbformat_minor": 4
}
