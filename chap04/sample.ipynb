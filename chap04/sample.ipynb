{
 "cells": [
  {
   "cell_type": "markdown",
   "metadata": {},
   "source": [
    "# 4. 制御構造と関数"
   ]
  },
  {
   "cell_type": "markdown",
   "metadata": {},
   "source": [
    "## 条件分岐 (if)"
   ]
  },
  {
   "cell_type": "code",
   "execution_count": null,
   "metadata": {},
   "outputs": [],
   "source": [
    "# 基本\n",
    "status = True\n",
    "\n",
    "# インデントに注意\n",
    "print('*** Now I am going to check status ***')\n",
    "\n",
    "# ifによる分岐\n",
    "if status:\n",
    "    print('status is True')  # インデントが１段下がる\n",
    "else:\n",
    "    print('status is False') # ここも１段下がる\n",
    "\n",
    "# ここからインデントが戻る\n",
    "print('*** Checking status is done ***')"
   ]
  },
  {
   "cell_type": "code",
   "execution_count": null,
   "metadata": {},
   "outputs": [],
   "source": [
    "# 入れ子にするなどより細かい制御\n",
    "a = 1\n",
    "b = 2\n",
    "c = 3\n",
    "\n",
    "print('** A little more complicated example ***')\n",
    "\n",
    "if a:\n",
    "    print('a = ', a)\n",
    "    # ifを入れ子にする\n",
    "    if a + b > c:\n",
    "        print('a + b > c')\n",
    "    elif a + b < c:\n",
    "        print('a + b < c')\n",
    "    elif a + b == c:\n",
    "        # さらに入れ子にする\n",
    "        if c >= 0:\n",
    "            print('a + b = c and c >= 0')\n",
    "        else:\n",
    "            print('a + b = c and c <  0')\n",
    "    else:\n",
    "        # passを使って「何もしない」ことを明示することもできる\n",
    "        pass\n",
    "# トップレベルのifに対応するelseは省略"
   ]
  },
  {
   "cell_type": "code",
   "execution_count": null,
   "metadata": {},
   "outputs": [],
   "source": [
    "#\n",
    "# 論理演算子を使う例\n",
    "#\n",
    "print('** Use logical operators for complex conditionals ***')\n",
    "\n",
    "if a < b and a < c:\n",
    "    print('a is smaller than both b and c')\n",
    "\n",
    "if a < b or a < c:\n",
    "    print('a is smaller than either b or c')\n",
    "\n",
    "if (a == 1 and a + b == c) or not (a == 1 and b == 2 and c == 3):\n",
    "    print('example of complex conditional')"
   ]
  },
  {
   "cell_type": "markdown",
   "metadata": {},
   "source": [
    "## 反復処理 (for)"
   ]
  },
  {
   "cell_type": "code",
   "execution_count": null,
   "metadata": {},
   "outputs": [],
   "source": [
    "# 一番シンプルな例\n",
    "for i in range(5):\n",
    "    print(i)"
   ]
  },
  {
   "cell_type": "code",
   "execution_count": null,
   "metadata": {},
   "outputs": [],
   "source": [
    "# 1つおきのループ\n",
    "for i in range(0, 5, 2):\n",
    "    print('i     = ', i)\n",
    "    print('i + 1 = ', i+1)"
   ]
  },
  {
   "cell_type": "code",
   "execution_count": null,
   "metadata": {},
   "outputs": [],
   "source": [
    "# 2重ループの例\n",
    "for i in range(1, 3):\n",
    "    for j in range(1, 5):\n",
    "        print('i = ', i, ', j = ', j, ', i*j = ', i*j)"
   ]
  },
  {
   "cell_type": "code",
   "execution_count": null,
   "metadata": {},
   "outputs": [],
   "source": [
    "# テイラー展開の公式でsin(x)の近似値を求める\n",
    "import math\n",
    "\n",
    "x = 0.2\n",
    "\n",
    "print('*** Taylor expansion of sin(x) ***')\n",
    "\n",
    "y = x\n",
    "a = x\n",
    "i = 1\n",
    "print('x = ', x)\n",
    "print('i = ', i, ' --- sin(x) = ', y)\n",
    "\n",
    "for i in range(3, 10, 2):\n",
    "    a = -a / ((i-1)*i) * x**2\n",
    "    y = y + a\n",
    "    print('i = ', i, ' --- sin(x) = ', y)\n",
    "\n",
    "print('exact   --- sin(x) = ', math.sin(x))"
   ]
  },
  {
   "cell_type": "markdown",
   "metadata": {},
   "source": [
    "## 反復処理 (while)"
   ]
  },
  {
   "cell_type": "code",
   "execution_count": null,
   "metadata": {},
   "outputs": [],
   "source": [
    "# 一番シンプルな例\n",
    "i = 0\n",
    "while i < 5:\n",
    "    print(i)\n",
    "    i += 1"
   ]
  },
  {
   "cell_type": "code",
   "execution_count": null,
   "metadata": {},
   "outputs": [],
   "source": [
    "# テイラー展開の公式でsin(x)の近似値が真の値に十分近づくまで計算する\n",
    "import math\n",
    "\n",
    "x = 0.2\n",
    "i = 1\n",
    "y = x\n",
    "a = x\n",
    "ytrue = math.sin(x)\n",
    "print('i = ', i, ' --- sin(x) = ', y)\n",
    "\n",
    "while abs((ytrue - y)/ytrue) > 1.0e-10:\n",
    "    i += 2\n",
    "    a = -a / ((i-1)*i) * x**2\n",
    "    y = y + a\n",
    "    print('i = ', i, ' --- sin(x) = ', y)\n",
    "\n",
    "print('approximated = ', y)\n",
    "print('exact        = ', ytrue)\n",
    "print('rel. error   = ', abs((ytrue-y)/ytrue))"
   ]
  },
  {
   "cell_type": "markdown",
   "metadata": {},
   "source": [
    "## 複雑な反復処理"
   ]
  },
  {
   "cell_type": "code",
   "execution_count": null,
   "metadata": {},
   "outputs": [],
   "source": [
    "i = 1\n",
    "while True:\n",
    "    i += 1\n",
    "    if   i%2 == 0:\n",
    "        print('Multiple of 2 --- ', i)\n",
    "        continue\n",
    "    elif i%3 == 0:\n",
    "        print('Multiple of 3 --- ', i)\n",
    "        continue\n",
    "    elif i%5 == 0:\n",
    "        print('Multiple of 5 --- ', i)\n",
    "        continue\n",
    "    elif i >= 10:\n",
    "        print('Exit')\n",
    "        break\n",
    "    print('Not a multiple of 2, 3, 5 --- ', i)"
   ]
  },
  {
   "cell_type": "markdown",
   "metadata": {},
   "source": [
    "## 関数"
   ]
  },
  {
   "cell_type": "code",
   "execution_count": null,
   "metadata": {},
   "outputs": [],
   "source": [
    "# 関数定義\n",
    "def square(x):\n",
    "    return x**2\n",
    "\n",
    "# 関数呼び出し\n",
    "square(2.0)"
   ]
  },
  {
   "cell_type": "code",
   "execution_count": null,
   "metadata": {},
   "outputs": [],
   "source": [
    "### 以下でエラーになるところでも，このセルを2回目以降に評価するときにはエラーにならない！\n",
    "### エラーになるかどうかをチェックするにはメニューからJupyterカーネルを再起動しよう\n",
    "\n",
    "# 以下の呼び出しはエラー(この時点ではhelloは定義されていない)\n",
    "#hello1()\n",
    "\n",
    "def hello2(name):\n",
    "    hello1() # 実行時にhello1が定義済みであればOK\n",
    "    print('I am', name)\n",
    "\n",
    "# 以下の呼び出しもエラー(この時点ではhello2が呼び出すhello1は定義されていない)\n",
    "#hello2('John')\n",
    "\n",
    "def hello1():\n",
    "    print('Hello')\n",
    "\n",
    "hello1()\n",
    "hello2('John')"
   ]
  },
  {
   "cell_type": "code",
   "execution_count": null,
   "metadata": {},
   "outputs": [],
   "source": [
    "import math\n",
    "\n",
    "# approximation of exp(x) via taylor expansion up to order n\n",
    "def exp_taylor(x, n):\n",
    "    c = 1.0\n",
    "    f = 1.0\n",
    "    for i in range(n):\n",
    "        c /= (i+1)\n",
    "        f += c * x**(i+1)\n",
    "    return f\n",
    "\n",
    "print('--- exp_taylor ---')\n",
    "x = 0.5\n",
    "print('x     = ', x)\n",
    "print('1st   = ', exp_taylor(x, 1))\n",
    "print('2nd   = ', exp_taylor(x, 2))\n",
    "print('3rd   = ', exp_taylor(x, 3))\n",
    "print('4th   = ', exp_taylor(x, 4))\n",
    "print('5th   = ', exp_taylor(x, 5))\n",
    "print('6th   = ', exp_taylor(x, 6))\n",
    "print('7th   = ', exp_taylor(x, 7))\n",
    "print('8th   = ', exp_taylor(x, 8))\n",
    "print('exact = ', math.exp(x))"
   ]
  },
  {
   "cell_type": "code",
   "execution_count": null,
   "metadata": {},
   "outputs": [],
   "source": [
    "# global variables for fibonacci\n",
    "a =-1\n",
    "b = 1\n",
    "\n",
    "def fibonacci():\n",
    "    # a and b refer to the global variables\n",
    "    global a, b\n",
    "    c = a + b\n",
    "    a = b\n",
    "    b = c\n",
    "    return c\n",
    "\n",
    "print('--- fibonacci ---')\n",
    "for i in range(20):\n",
    "    print(fibonacci())"
   ]
  },
  {
   "cell_type": "markdown",
   "metadata": {},
   "source": [
    "## オブジェクト"
   ]
  },
  {
   "cell_type": "code",
   "execution_count": null,
   "metadata": {},
   "outputs": [],
   "source": [
    "import sys\n",
    "\n",
    "# sysオブジェクトの属性versionにアクセス\n",
    "sys.version"
   ]
  },
  {
   "cell_type": "code",
   "execution_count": null,
   "metadata": {},
   "outputs": [],
   "source": [
    "s = 'python'"
   ]
  },
  {
   "cell_type": "code",
   "execution_count": null,
   "metadata": {},
   "outputs": [],
   "source": [
    "# 大文字に変換した文字列を返す\n",
    "s.upper()"
   ]
  },
  {
   "cell_type": "code",
   "execution_count": null,
   "metadata": {},
   "outputs": [],
   "source": [
    "# 小文字に変換した文字列を返す\n",
    "s.lower()"
   ]
  },
  {
   "cell_type": "code",
   "execution_count": null,
   "metadata": {},
   "outputs": [],
   "source": [
    "# 先頭を大文字，以降を小文字にした文字列を返す\n",
    "s.capitalize()"
   ]
  },
  {
   "cell_type": "code",
   "execution_count": null,
   "metadata": {},
   "outputs": [],
   "source": []
  }
 ],
 "metadata": {
  "kernelspec": {
   "display_name": "Python 3",
   "language": "python",
   "name": "python3"
  },
  "language_info": {
   "codemirror_mode": {
    "name": "ipython",
    "version": 3
   },
   "file_extension": ".py",
   "mimetype": "text/x-python",
   "name": "python",
   "nbconvert_exporter": "python",
   "pygments_lexer": "ipython3",
   "version": "3.9.7"
  }
 },
 "nbformat": 4,
 "nbformat_minor": 4
}
