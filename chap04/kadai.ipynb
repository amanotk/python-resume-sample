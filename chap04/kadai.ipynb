{
 "cells": [
  {
   "attachments": {},
   "cell_type": "markdown",
   "metadata": {},
   "source": [
    "<a href=\"https://colab.research.google.com/github/amanotk/python-resume-sample/blob/main/chap04/kadai.ipynb\">\n",
    "<img src=\"https://colab.research.google.com/assets/colab-badge.svg\" style=\"vertical-align: text-top;\">\n",
    "</a>\n",
    "\n",
    "# 4. 課題解答例"
   ]
  },
  {
   "cell_type": "markdown",
   "metadata": {},
   "source": [
    "## 課題1\n",
    "なし"
   ]
  },
  {
   "cell_type": "markdown",
   "metadata": {},
   "source": [
    "## 課題2"
   ]
  },
  {
   "cell_type": "code",
   "execution_count": null,
   "metadata": {},
   "outputs": [],
   "source": [
    "def compare(m, n):\n",
    "    \"mとnを比較する\"\n",
    "    if m == n:\n",
    "        print(m, 'is equal to', n)\n",
    "    elif m > n:\n",
    "        print(m, 'is larger than', n)\n",
    "    elif m < n:\n",
    "        print(m, 'is smaller than', n)"
   ]
  },
  {
   "cell_type": "code",
   "execution_count": null,
   "metadata": {},
   "outputs": [],
   "source": [
    "compare(2, 1)\n",
    "compare(1, 2)\n",
    "compare(3, 3)"
   ]
  },
  {
   "cell_type": "markdown",
   "metadata": {},
   "source": [
    "## 課題3"
   ]
  },
  {
   "cell_type": "code",
   "execution_count": null,
   "metadata": {},
   "outputs": [],
   "source": [
    "def is_leapyear(year):\n",
    "    \"うるう年の判定\"\n",
    "    if year%400 == 0:\n",
    "        return True\n",
    "    elif year%100 == 0:\n",
    "        return False\n",
    "    elif year%4 == 0:\n",
    "        return True"
   ]
  },
  {
   "cell_type": "code",
   "execution_count": null,
   "metadata": {},
   "outputs": [],
   "source": [
    "is_leapyear(2000)"
   ]
  },
  {
   "cell_type": "markdown",
   "metadata": {},
   "source": [
    "## 課題4"
   ]
  },
  {
   "cell_type": "code",
   "execution_count": null,
   "metadata": {},
   "outputs": [],
   "source": [
    "import math\n",
    "\n",
    "def trigonometric(n):\n",
    "    \"θ, sinθ, cosθの値を出力する\"\n",
    "    for i in range(n+1):\n",
    "        x = 180.0 * i / n\n",
    "        y1 = math.sin(x * math.pi/180.0)\n",
    "        y2 = math.cos(x * math.pi/180.0)\n",
    "        print('{:+12.3e} {:+12.3e} {:+12.3e}'.format(x, y1, y2))"
   ]
  },
  {
   "cell_type": "code",
   "execution_count": null,
   "metadata": {},
   "outputs": [],
   "source": [
    "trigonometric(18)"
   ]
  },
  {
   "cell_type": "markdown",
   "metadata": {},
   "source": [
    "## 課題5"
   ]
  },
  {
   "cell_type": "code",
   "execution_count": null,
   "metadata": {},
   "outputs": [],
   "source": [
    "def gcd(m, n):\n",
    "    \"mとnの最大公倍数を求める\"\n",
    "    if m < n:\n",
    "        r = n\n",
    "        n = m\n",
    "        m = r    \n",
    "    r = m%n\n",
    "    while r != 0:\n",
    "        m = n\n",
    "        n = r\n",
    "        r = m%n\n",
    "    return n"
   ]
  },
  {
   "cell_type": "code",
   "execution_count": null,
   "metadata": {},
   "outputs": [],
   "source": [
    "gcd(12, 20)"
   ]
  },
  {
   "cell_type": "markdown",
   "metadata": {},
   "source": [
    "## 課題6"
   ]
  },
  {
   "cell_type": "code",
   "execution_count": null,
   "metadata": {},
   "outputs": [],
   "source": [
    "def approx_e(n, epsilon):\n",
    "    \"自然対数の底を級数展開を用いて求める\"\n",
    "    if n <= 1:\n",
    "        print('Error : N > 1 is not satisfied')\n",
    "        return None, None, None\n",
    "    if epsilon < 0 or epsilon > 1:\n",
    "        print('Error : 0 < epsilon < 1 is not satisfied')\n",
    "        return None, None, None\n",
    "\n",
    "    iteration = n\n",
    "    status = False\n",
    "    c = 1.0\n",
    "    e = 1.0\n",
    "    for i in range(n):\n",
    "        c /= (i+1)\n",
    "        e += c\n",
    "        if abs(e - math.e)/math.e < epsilon:\n",
    "            status = True\n",
    "            iteration = i\n",
    "            break\n",
    "    return status, iteration, e"
   ]
  },
  {
   "cell_type": "code",
   "execution_count": null,
   "metadata": {},
   "outputs": [],
   "source": [
    "status, iteration, e = approx_e(10, 1.0e-8)\n",
    "\n",
    "if status:\n",
    "    print('Converged !')\n",
    "else:\n",
    "    print('Did not converge !')\n",
    "\n",
    "print('{:20} : {:>20}'.format('N', iteration))\n",
    "print('{:20} : {:>20.14e}'.format('Approximated', e))\n",
    "print('{:20} : {:>20.14e}'.format('Exact', math.e))\n",
    "print('{:20} : {:>20.14e}'.format('Error', abs(e-math.e)/math.e))"
   ]
  },
  {
   "cell_type": "markdown",
   "metadata": {},
   "source": [
    "## 課題7"
   ]
  },
  {
   "cell_type": "code",
   "execution_count": null,
   "metadata": {},
   "outputs": [],
   "source": [
    "def approx_sqrt(a, epsilon):\n",
    "    \"aの平方根の近似値を求める\"\n",
    "    x = a\n",
    "    err = 1.0\n",
    "    while err > epsilon:\n",
    "        dx = 0.5*(a/x - x)\n",
    "        err = abs(dx/x)\n",
    "        x += dx\n",
    "    return x"
   ]
  },
  {
   "cell_type": "code",
   "execution_count": null,
   "metadata": {},
   "outputs": [],
   "source": [
    "sqrta1 = approx_sqrt(2.0, 1.0e-5)\n",
    "sqrta2 = math.sqrt(2.0)\n",
    "\n",
    "print('{:20} : {:>20.14e}'.format('Approximated', sqrta1))\n",
    "print('{:20} : {:>20.14e}'.format('Exact', sqrta2))"
   ]
  },
  {
   "cell_type": "code",
   "execution_count": null,
   "metadata": {},
   "outputs": [],
   "source": []
  }
 ],
 "metadata": {
  "kernelspec": {
   "display_name": "Python 3",
   "language": "python",
   "name": "python3"
  },
  "language_info": {
   "codemirror_mode": {
    "name": "ipython",
    "version": 3
   },
   "file_extension": ".py",
   "mimetype": "text/x-python",
   "name": "python",
   "nbconvert_exporter": "python",
   "pygments_lexer": "ipython3",
   "version": "3.8.16"
  }
 },
 "nbformat": 4,
 "nbformat_minor": 4
}
