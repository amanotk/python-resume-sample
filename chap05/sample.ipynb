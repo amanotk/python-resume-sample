{
 "cells": [
  {
   "attachments": {},
   "cell_type": "markdown",
   "id": "3e54f218",
   "metadata": {},
   "source": [
    "<a href=\"https://colab.research.google.com/github/amanotk/python-resume-sample/blob/main/chap05/sample.ipynb\">\n",
    "<img src=\"https://colab.research.google.com/assets/colab-badge.svg\" style=\"vertical-align: text-top;\">\n",
    "</a>\n",
    "\n",
    "# 5. 便利な組み込み型"
   ]
  },
  {
   "cell_type": "markdown",
   "id": "0ec8f4db",
   "metadata": {},
   "source": [
    "## tuple"
   ]
  },
  {
   "cell_type": "code",
   "execution_count": null,
   "id": "9ebd97fd",
   "metadata": {},
   "outputs": [],
   "source": [
    "# サイズ3のtuple\n",
    "(1, 2, 3)"
   ]
  },
  {
   "cell_type": "code",
   "execution_count": null,
   "id": "afcb0907",
   "metadata": {},
   "outputs": [],
   "source": [
    "# 空のtuple\n",
    "()"
   ]
  },
  {
   "cell_type": "code",
   "execution_count": null,
   "id": "6852a048",
   "metadata": {},
   "outputs": [],
   "source": [
    "# tupleを作る\n",
    "a = ('this', 'is', 'tuple') \n",
    "\n",
    "# 任意のPythonオブジェクトが要素となれる\n",
    "(1, 'string', a) "
   ]
  },
  {
   "cell_type": "code",
   "execution_count": null,
   "id": "b273570b",
   "metadata": {},
   "outputs": [],
   "source": [
    "# 最初の要素にアクセス\n",
    "a[0]"
   ]
  },
  {
   "cell_type": "code",
   "execution_count": null,
   "id": "64503c3f",
   "metadata": {},
   "outputs": [],
   "source": [
    "# try-exceptはエラーを出さないための処理なので無視してよい\n",
    "try:\n",
    "    # 代入(値の更新)はできない\n",
    "    a[0] = 'that'\n",
    "except Exception as e:\n",
    "    import traceback\n",
    "    print(traceback.format_exc())"
   ]
  },
  {
   "cell_type": "code",
   "execution_count": null,
   "id": "23970342",
   "metadata": {},
   "outputs": [],
   "source": [
    "# 関数の返値がtuple\n",
    "def test_tuple(a, b):\n",
    "    return a+b, a-b"
   ]
  },
  {
   "cell_type": "code",
   "execution_count": null,
   "id": "a49a71a2",
   "metadata": {},
   "outputs": [],
   "source": [
    "# 関数の返値を確認\n",
    "test_tuple(1, 2)"
   ]
  },
  {
   "cell_type": "code",
   "execution_count": null,
   "id": "825a08e5",
   "metadata": {},
   "outputs": [],
   "source": [
    "# 返値はサイズ2のtupleなので，それぞれを別の変数に代入\n",
    "c, d = test_tuple(20, 10)"
   ]
  },
  {
   "cell_type": "code",
   "execution_count": null,
   "id": "eb2837f9",
   "metadata": {},
   "outputs": [],
   "source": [
    "c"
   ]
  },
  {
   "cell_type": "code",
   "execution_count": null,
   "id": "aea647bc",
   "metadata": {},
   "outputs": [],
   "source": [
    "d"
   ]
  },
  {
   "cell_type": "markdown",
   "id": "a8665f1f",
   "metadata": {},
   "source": [
    "## list"
   ]
  },
  {
   "cell_type": "code",
   "execution_count": null,
   "id": "be4c147d",
   "metadata": {},
   "outputs": [],
   "source": [
    "# 空のlist\n",
    "[]"
   ]
  },
  {
   "cell_type": "code",
   "execution_count": null,
   "id": "1801a11a",
   "metadata": {},
   "outputs": [],
   "source": [
    "# listも任意のPythonオブジェクトを要素とする\n",
    "a = ['this', 'is', 'list']\n",
    "[1, 'string', a]"
   ]
  },
  {
   "cell_type": "code",
   "execution_count": null,
   "id": "d914d925",
   "metadata": {},
   "outputs": [],
   "source": [
    "# 最初の要素にアクセス\n",
    "a[0]"
   ]
  },
  {
   "cell_type": "code",
   "execution_count": null,
   "id": "53053c17",
   "metadata": {},
   "outputs": [],
   "source": [
    "# listは値の書き換えが可能\n",
    "a[0] = 'that'\n",
    "a"
   ]
  },
  {
   "cell_type": "code",
   "execution_count": null,
   "id": "0097590e",
   "metadata": {},
   "outputs": [],
   "source": [
    "# appendで要素を追加\n",
    "a = [1, 2, 3]\n",
    "a.append(4)\n",
    "a"
   ]
  },
  {
   "cell_type": "code",
   "execution_count": null,
   "id": "636fafae",
   "metadata": {},
   "outputs": [],
   "source": [
    "# insertで要素を挿入\n",
    "a.insert(1, 100)\n",
    "a"
   ]
  },
  {
   "cell_type": "code",
   "execution_count": null,
   "id": "c9b0fbcc",
   "metadata": {},
   "outputs": [],
   "source": [
    "# removeで要素を削除\n",
    "a.remove(100)\n",
    "a"
   ]
  },
  {
   "cell_type": "code",
   "execution_count": null,
   "id": "84114d55",
   "metadata": {},
   "outputs": [],
   "source": [
    "# 最後の要素を返す\n",
    "a.pop()"
   ]
  },
  {
   "cell_type": "code",
   "execution_count": null,
   "id": "e14dd79f",
   "metadata": {},
   "outputs": [],
   "source": [
    "# popによってサイズが縮小\n",
    "a"
   ]
  },
  {
   "cell_type": "code",
   "execution_count": null,
   "id": "4bae7f9d",
   "metadata": {},
   "outputs": [],
   "source": [
    "# extendで別のlistの全ての要素を追加\n",
    "a.extend([10, 11, 12])\n",
    "a"
   ]
  },
  {
   "cell_type": "code",
   "execution_count": null,
   "id": "ef90be4c",
   "metadata": {},
   "outputs": [],
   "source": [
    "# 空にする\n",
    "a.clear()\n",
    "a"
   ]
  },
  {
   "cell_type": "code",
   "execution_count": null,
   "id": "f375b0d7",
   "metadata": {},
   "outputs": [],
   "source": [
    "# tupleをlistに変換\n",
    "list((3, 4, 5))"
   ]
  },
  {
   "cell_type": "code",
   "execution_count": null,
   "id": "fea85e17",
   "metadata": {},
   "outputs": [],
   "source": [
    "# 0で初期化されたサイズ10のlist\n",
    "[0]*10"
   ]
  },
  {
   "cell_type": "code",
   "execution_count": null,
   "id": "359d5c44",
   "metadata": {},
   "outputs": [],
   "source": [
    "# 内包表記でlistを生成\n",
    "[i**2 for i in range(5)]"
   ]
  },
  {
   "cell_type": "markdown",
   "id": "710d38c5",
   "metadata": {},
   "source": [
    "## range"
   ]
  },
  {
   "cell_type": "code",
   "execution_count": null,
   "id": "ec3bac1c",
   "metadata": {},
   "outputs": [],
   "source": [
    "# listに変換\n",
    "list(range(5))"
   ]
  },
  {
   "cell_type": "code",
   "execution_count": null,
   "id": "06365ce7",
   "metadata": {},
   "outputs": [],
   "source": [
    "# tupleに変換\n",
    "tuple(range(5))"
   ]
  },
  {
   "cell_type": "markdown",
   "id": "a45eb92e",
   "metadata": {},
   "source": [
    "## dict"
   ]
  },
  {
   "cell_type": "code",
   "execution_count": null,
   "id": "d6a26e5c",
   "metadata": {},
   "outputs": [],
   "source": [
    "# 陽にキーと値のペアを与えてdictを生成\n",
    "a = {'key1' : 'value1', 'key2' : 'value2', 'key3' : 'value3'}\n",
    "a"
   ]
  },
  {
   "cell_type": "code",
   "execution_count": null,
   "id": "c04ad928",
   "metadata": {},
   "outputs": [],
   "source": [
    "# これでも同じ\n",
    "b = dict(key1='value1', key2='value2', key3='value3')\n",
    "b"
   ]
  },
  {
   "cell_type": "code",
   "execution_count": null,
   "id": "088dc81f",
   "metadata": {},
   "outputs": [],
   "source": [
    "# キーを指定して値にアクセス\n",
    "a['key3']"
   ]
  },
  {
   "cell_type": "code",
   "execution_count": null,
   "id": "6f08f1b5",
   "metadata": {},
   "outputs": [],
   "source": [
    "# キーを指定して値を更新\n",
    "a['key1'] = 'hoge'\n",
    "a"
   ]
  },
  {
   "cell_type": "code",
   "execution_count": null,
   "id": "62c4068c",
   "metadata": {},
   "outputs": [],
   "source": [
    "# 存在しないキーを指定すると新たなキーと値を追加\n",
    "a['key0'] = 'value0'\n",
    "a"
   ]
  },
  {
   "cell_type": "code",
   "execution_count": null,
   "id": "1d38efe5",
   "metadata": {},
   "outputs": [],
   "source": [
    "# キーと値を削除\n",
    "del a['key1']\n",
    "a"
   ]
  },
  {
   "cell_type": "code",
   "execution_count": null,
   "id": "c06b39fa",
   "metadata": {},
   "outputs": [],
   "source": [
    "# try-exceptはエラーを出さないための処理なので無視してよい\n",
    "try:\n",
    "    # 存在しないキーを指定するとエラー\n",
    "    a['key1']\n",
    "except Exception as e:\n",
    "    import traceback\n",
    "    print(traceback.format_exc())"
   ]
  },
  {
   "cell_type": "code",
   "execution_count": null,
   "id": "2b845b14",
   "metadata": {},
   "outputs": [],
   "source": [
    "# 'key1' が存在するかチェック\n",
    "'key1' in a"
   ]
  },
  {
   "cell_type": "code",
   "execution_count": null,
   "id": "e5ee70eb",
   "metadata": {},
   "outputs": [],
   "source": [
    "# 'key2' が存在するかチェック\n",
    "'key2' in a"
   ]
  },
  {
   "cell_type": "code",
   "execution_count": null,
   "id": "af918cf6",
   "metadata": {},
   "outputs": [],
   "source": [
    "# 'key1'にアクセス．存在しない場合は'hoge'を返す\n",
    "a.get('key1', 'hoge')"
   ]
  },
  {
   "cell_type": "code",
   "execution_count": null,
   "id": "522a31e5",
   "metadata": {},
   "outputs": [],
   "source": [
    "# 'key2'にアクセス．存在しない場合は'hoge'を返す\n",
    "a.get('key2', 'hoge')"
   ]
  },
  {
   "cell_type": "code",
   "execution_count": null,
   "id": "53d4ee03",
   "metadata": {},
   "outputs": [],
   "source": [
    "# キー\n",
    "a.keys()"
   ]
  },
  {
   "cell_type": "code",
   "execution_count": null,
   "id": "04a5e9f9",
   "metadata": {},
   "outputs": [],
   "source": [
    "# 値\n",
    "a.values()"
   ]
  },
  {
   "cell_type": "code",
   "execution_count": null,
   "id": "beea2da2",
   "metadata": {},
   "outputs": [],
   "source": [
    "# キーと値のペア\n",
    "a.items()"
   ]
  },
  {
   "cell_type": "code",
   "execution_count": null,
   "id": "6623218e",
   "metadata": {},
   "outputs": [],
   "source": [
    "# dictの全ての要素に対する処理\n",
    "for key, val in a.items():\n",
    "    print(\"key = {:5s} : value = {:5s}\".format(key, val))"
   ]
  },
  {
   "cell_type": "code",
   "execution_count": null,
   "id": "e5c88ac2",
   "metadata": {},
   "outputs": [],
   "source": [
    "# 同様に全てのキーに対する処理\n",
    "for key in a.keys():\n",
    "    print(key)"
   ]
  },
  {
   "cell_type": "code",
   "execution_count": null,
   "id": "522bd1c1",
   "metadata": {},
   "outputs": [],
   "source": [
    "# .keys()で返されるオブジェクトをlistに変換\n",
    "keys = list(a.keys())\n",
    "keys"
   ]
  },
  {
   "cell_type": "code",
   "execution_count": null,
   "id": "c9885434",
   "metadata": {},
   "outputs": [],
   "source": [
    "# listをソート\n",
    "keys.sort()\n",
    "keys"
   ]
  },
  {
   "cell_type": "code",
   "execution_count": null,
   "id": "e2e3005e",
   "metadata": {},
   "outputs": [],
   "source": [
    "# ソートしたキーで順にアクセスする\n",
    "for key in keys:\n",
    "    print(\"key = {:5s} : value = {:5s}\".format(key, a[key]))"
   ]
  },
  {
   "cell_type": "code",
   "execution_count": null,
   "id": "8f38fe38",
   "metadata": {},
   "outputs": [],
   "source": []
  }
 ],
 "metadata": {
  "kernelspec": {
   "display_name": "base",
   "language": "python",
   "name": "python3"
  },
  "language_info": {
   "codemirror_mode": {
    "name": "ipython",
    "version": 3
   },
   "file_extension": ".py",
   "mimetype": "text/x-python",
   "name": "python",
   "nbconvert_exporter": "python",
   "pygments_lexer": "ipython3",
   "version": "3.8.16"
  },
  "vscode": {
   "interpreter": {
    "hash": "546c21d3de566120dda309d1397c5675600fd1cfea721af46f796ef4bbd56950"
   }
  }
 },
 "nbformat": 4,
 "nbformat_minor": 5
}
