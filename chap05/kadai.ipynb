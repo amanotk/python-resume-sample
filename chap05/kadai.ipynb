{
 "cells": [
  {
   "cell_type": "markdown",
   "metadata": {},
   "source": [
    "# 5. 課題解答例"
   ]
  },
  {
   "cell_type": "markdown",
   "metadata": {},
   "source": [
    "## 課題1\n",
    "なし"
   ]
  },
  {
   "cell_type": "markdown",
   "metadata": {},
   "source": [
    "## 課題2"
   ]
  },
  {
   "cell_type": "code",
   "execution_count": null,
   "metadata": {},
   "outputs": [],
   "source": [
    "def print_args(*args):\n",
    "    \"当たられた位置指定引数を全て出力する\"\n",
    "    for i, val in enumerate(args):\n",
    "        print(\"args[{:3d}] = {:s}]\".format(i, str(val)))"
   ]
  },
  {
   "cell_type": "code",
   "execution_count": null,
   "metadata": {},
   "outputs": [],
   "source": [
    "print_args('hello', (1, 2, 3), [], {'key' : 'val'}, None)"
   ]
  },
  {
   "cell_type": "markdown",
   "metadata": {},
   "source": [
    "## 課題3"
   ]
  },
  {
   "cell_type": "code",
   "execution_count": null,
   "metadata": {},
   "outputs": [],
   "source": [
    "def unique(x):\n",
    "    \"与えられたlistから重複した要素を除いたlistを返す\"\n",
    "    y = []\n",
    "    for xx in x:\n",
    "        if xx not in y: # 既に要素があるかどうかチェック\n",
    "            y.append(xx)\n",
    "    return y"
   ]
  },
  {
   "cell_type": "code",
   "execution_count": null,
   "metadata": {},
   "outputs": [],
   "source": [
    "unique(['a', 1, 'b', 2, 'c', 1, 2, 3, 'b', 'd', 'a', 3])"
   ]
  },
  {
   "cell_type": "markdown",
   "metadata": {},
   "source": [
    "## 課題4"
   ]
  },
  {
   "cell_type": "code",
   "execution_count": null,
   "metadata": {},
   "outputs": [],
   "source": [
    "def process_kwargs(**kwargs):\n",
    "    \"キーワード引数で与えられた引数を全て出力する\"\n",
    "    # 必須の引数aとbをtupleで指定\n",
    "    required_keys = 'a', 'b'\n",
    "    for key in required_keys:\n",
    "        if key not in kwargs:\n",
    "            kwargs[key] = None\n",
    "    # キーでソートする\n",
    "    keys = list(kwargs.keys())\n",
    "    keys.sort()\n",
    "    for key in keys:\n",
    "        print(key, kwargs[key])"
   ]
  },
  {
   "cell_type": "code",
   "execution_count": null,
   "metadata": {},
   "outputs": [],
   "source": [
    "process_kwargs(a='hi', c='chao', x=10, y=20, z=30)"
   ]
  },
  {
   "cell_type": "markdown",
   "metadata": {},
   "source": [
    "## 課題5"
   ]
  },
  {
   "cell_type": "code",
   "execution_count": null,
   "metadata": {},
   "outputs": [],
   "source": [
    "# JSON文字列\n",
    "json_string = \\\n",
    "\"\"\"\n",
    "[\n",
    "  {\n",
    "    \"age\": 28,\n",
    "    \"name\": {\n",
    "      \"last\": \"Morales\",\n",
    "      \"first\": \"Hickman\"\n",
    "    },\n",
    "    \"email\": \"hickman.morales@electonic.cg\",\n",
    "    \"index\": 0,\n",
    "    \"company\": \"Electonic\",\n",
    "    \"favoriteFruit\": \"apple\"\n",
    "  },\n",
    "  {\n",
    "    \"age\": 59,\n",
    "    \"name\": {\n",
    "      \"last\": \"Norris\",\n",
    "      \"first\": \"Emerson\"\n",
    "    },\n",
    "    \"email\": \"emerson.norris@recrisys.sj\",\n",
    "    \"index\": 1,\n",
    "    \"company\": \"Recrisys\",\n",
    "    \"favoriteFruit\": \"strawberry\"\n",
    "  },\n",
    "  {\n",
    "    \"age\": 47,\n",
    "    \"name\": {\n",
    "      \"last\": \"Garza\",\n",
    "      \"first\": \"Shelly\"\n",
    "    },\n",
    "    \"email\": \"shelly.garza@signity.mw\",\n",
    "    \"index\": 2,\n",
    "    \"company\": \"Signity\",\n",
    "    \"favoriteFruit\": \"orange\"\n",
    "  },\n",
    "  {\n",
    "    \"age\": 30,\n",
    "    \"name\": {\n",
    "      \"last\": \"Owens\",\n",
    "      \"first\": \"Rhoda\"\n",
    "    },\n",
    "    \"email\": \"rhoda.owens@kidgrease.cn\",\n",
    "    \"index\": 3,\n",
    "    \"company\": \"Kidgrease\",\n",
    "    \"favoriteFruit\": \"strawberry\"\n",
    "  },\n",
    "  {\n",
    "    \"age\": 18,\n",
    "    \"name\": {\n",
    "      \"last\": \"Dodson\",\n",
    "      \"first\": \"Florence\"\n",
    "    },\n",
    "    \"email\": \"florence.dodson@musanpoly.cy\",\n",
    "    \"index\": 4,\n",
    "    \"company\": \"Musanpoly\",\n",
    "    \"favoriteFruit\": \"banana\"\n",
    "  }\n",
    "]\n",
    "\"\"\"\n",
    "\n",
    "# jsonモジュールを使う\n",
    "import json\n",
    "\n",
    "def process_json1(s):\n",
    "    \"JSON文字列から名前とEmailアドレスを抽出して出力\"\n",
    "    # 文字列からオブジェクトに変換\n",
    "    json_obj = json.loads(s)\n",
    "    # \n",
    "    for elem in json_obj:\n",
    "        # 以下念のためチェックするコードを色々いれてあるがこの課題には必要ない\n",
    "        if not isinstance(elem, dict):\n",
    "            continue\n",
    "        if 'name' in elem:\n",
    "            first = elem.get('name').get('first', '').capitalize()\n",
    "            last = elem.get('name').get('last', '').upper()\n",
    "        email = elem.get('email', '')\n",
    "        print('{:s} {:s} <{:s}>'.format(first, last, email))"
   ]
  },
  {
   "cell_type": "code",
   "execution_count": null,
   "metadata": {},
   "outputs": [],
   "source": [
    "process_json1(json_string)"
   ]
  },
  {
   "cell_type": "markdown",
   "metadata": {},
   "source": [
    "## 課題6"
   ]
  },
  {
   "cell_type": "code",
   "execution_count": null,
   "metadata": {},
   "outputs": [],
   "source": [
    "def process_json2(s):\n",
    "    \"JSON文字列から個人情報を削除したJSON文字列として返す\"\n",
    "    # 削除するキーをtupleで与える\n",
    "    to_be_deleted = 'name', 'email'\n",
    "    x = []\n",
    "    for elem in json.loads(s):\n",
    "        for key in to_be_deleted:\n",
    "            del elem[key]\n",
    "        x.append(elem)\n",
    "    # JSON文字列に変換して返す\n",
    "    return json.dumps(x, indent=2)"
   ]
  },
  {
   "cell_type": "code",
   "execution_count": null,
   "metadata": {},
   "outputs": [],
   "source": [
    "# 返された文字列をそのまま出力\n",
    "print(process_json2(json_string))"
   ]
  },
  {
   "cell_type": "code",
   "execution_count": null,
   "metadata": {},
   "outputs": [],
   "source": []
  }
 ],
 "metadata": {
  "kernelspec": {
   "display_name": "Python 3 (ipykernel)",
   "language": "python",
   "name": "python3"
  },
  "language_info": {
   "codemirror_mode": {
    "name": "ipython",
    "version": 3
   },
   "file_extension": ".py",
   "mimetype": "text/x-python",
   "name": "python",
   "nbconvert_exporter": "python",
   "pygments_lexer": "ipython3",
   "version": "3.9.7"
  }
 },
 "nbformat": 4,
 "nbformat_minor": 4
}
